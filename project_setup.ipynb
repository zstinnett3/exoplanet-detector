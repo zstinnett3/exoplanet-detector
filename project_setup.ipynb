{
 "cells": [
  {
   "cell_type": "code",
   "execution_count": 1,
   "metadata": {},
   "outputs": [
    {
     "name": "stdout",
     "output_type": "stream",
     "text": [
      "✅ Project scaffold created.\n"
     ]
    }
   ],
   "source": [
    "import os\n",
    "\n",
    "project_structure = [\n",
    "    \"data/raw\",\n",
    "    \"data/processed\",\n",
    "    \"notebooks\",\n",
    "    \"src/data\",\n",
    "    \"src/models\",\n",
    "    \"src/training\",\n",
    "    \"src/explain\",\n",
    "    \"src/api\",\n",
    "    \"dashboard/components\",\n",
    "    \"tests\",\n",
    "    \"scripts\",\n",
    "    \"logs/training_logs\",\n",
    "    \"saved_models\",\n",
    "]\n",
    "\n",
    "files = {\n",
    "    \n",
    "    \"requirements.txt\": \"\",\n",
    "    \"setup.py\": \"\",\n",
    "    \".env.example\": \"\",\n",
    "    \"data/labels.csv\": \"\",\n",
    "    \"dashboard/app.py\": \"\",\n",
    "    \"src/config.py\": \"\",\n",
    "    # Notebooks\n",
    "    **{f\"notebooks/0{i}-{name}.ipynb\": \"\" for i, name in enumerate([\n",
    "        \"data-exploration\", \"preprocessing\", \"model-baseline\",\n",
    "        \"transformer-model\", \"evaluation\", \"nlp-explanation\"\n",
    "    ])},\n",
    "    # Python modules\n",
    "    **{path: \"\" for path in [\n",
    "        \"src/__init__.py\",\n",
    "        \"src/data/__init__.py\", \"src/data/download.py\", \"src/data/preprocess.py\",\n",
    "        \"src/models/__init__.py\", \"src/models/cnn.py\", \"src/models/transformer.py\", \"src/models/false_positive.py\",\n",
    "        \"src/training/__init__.py\", \"src/training/train.py\", \"src/training/evaluate.py\",\n",
    "        \"src/explain/__init__.py\", \"src/explain/summarizer.py\", \"src/explain/paper_search.py\",\n",
    "        \"src/api/__init__.py\", \"src/api/main.py\", \"src/api/utils.py\",\n",
    "        # Tests\n",
    "        \"tests/test_preprocess.py\", \"tests/test_model.py\", \"tests/test_api.py\", \"tests/test_explain.py\",\n",
    "        # Scripts\n",
    "        \"scripts/run_training.py\", \"scripts/predict.py\", \"scripts/summarize_event.py\", \"scripts/fetch_papers.py\"\n",
    "    ]}\n",
    "}\n",
    "\n",
    "# Create directories\n",
    "for folder in project_structure:\n",
    "    os.makedirs(folder, exist_ok=True)\n",
    "\n",
    "# Create files\n",
    "for filepath, content in files.items():\n",
    "    with open(filepath, \"w\", encoding=\"utf-8\") as f:\n",
    "        f.write(content)\n",
    "\n",
    "print(\"✅ Project scaffold created.\")"
   ]
  },
  {
   "cell_type": "code",
   "execution_count": null,
   "metadata": {},
   "outputs": [],
   "source": []
  }
 ],
 "metadata": {
  "kernelspec": {
   "display_name": "Python 3",
   "language": "python",
   "name": "python3"
  },
  "language_info": {
   "codemirror_mode": {
    "name": "ipython",
    "version": 3
   },
   "file_extension": ".py",
   "mimetype": "text/x-python",
   "name": "python",
   "nbconvert_exporter": "python",
   "pygments_lexer": "ipython3",
   "version": "3.6.10"
  }
 },
 "nbformat": 4,
 "nbformat_minor": 4
}
