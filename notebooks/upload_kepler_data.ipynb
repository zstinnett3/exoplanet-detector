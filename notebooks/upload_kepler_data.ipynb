{
 "cells": [
  {
   "cell_type": "code",
   "execution_count": 1,
   "id": "741b393e-6454-47af-96d9-59790dd8c65c",
   "metadata": {
    "execution": {
     "iopub.execute_input": "2025-07-04T19:06:17.033290Z",
     "iopub.status.busy": "2025-07-04T19:06:17.033003Z",
     "iopub.status.idle": "2025-07-04T19:06:17.346979Z",
     "shell.execute_reply": "2025-07-04T19:06:17.346184Z",
     "shell.execute_reply.started": "2025-07-04T19:06:17.033260Z"
    }
   },
   "outputs": [],
   "source": [
    "import os\n",
    "import boto3\n",
    "import requests\n",
    "from pathlib import Path"
   ]
  },
  {
   "cell_type": "code",
   "execution_count": 2,
   "id": "6faf79dc-5fd2-4377-9439-f6c2334414f2",
   "metadata": {
    "execution": {
     "iopub.execute_input": "2025-07-04T19:06:43.548981Z",
     "iopub.status.busy": "2025-07-04T19:06:43.548608Z",
     "iopub.status.idle": "2025-07-04T19:06:43.553209Z",
     "shell.execute_reply": "2025-07-04T19:06:43.552288Z",
     "shell.execute_reply.started": "2025-07-04T19:06:43.548958Z"
    }
   },
   "outputs": [],
   "source": [
    "# ---- Configuration ----\n",
    "DATA_URL = \"https://storage.googleapis.com/kepler_data/kepler_ffi_data.zip\"  # example source\n",
    "LOCAL_FILENAME = \"kepler_data.zip\"\n",
    "S3_BUCKET = \"exoplanet-detection-data\"           # Replace with your actual bucket\n",
    "S3_KEY = \"datasets/kepler_data.zip\"      # S3 path"
   ]
  },
  {
   "cell_type": "code",
   "execution_count": 3,
   "id": "30cf72dc-7d71-496e-947b-328cb5bdefdb",
   "metadata": {
    "execution": {
     "iopub.execute_input": "2025-07-04T19:06:52.324822Z",
     "iopub.status.busy": "2025-07-04T19:06:52.324454Z",
     "iopub.status.idle": "2025-07-04T19:06:52.329669Z",
     "shell.execute_reply": "2025-07-04T19:06:52.328882Z",
     "shell.execute_reply.started": "2025-07-04T19:06:52.324796Z"
    }
   },
   "outputs": [],
   "source": [
    "# ---- Download data ----\n",
    "def download_data():\n",
    "    if not os.path.exists(LOCAL_FILENAME):\n",
    "        print(f\"Downloading {LOCAL_FILENAME}...\")\n",
    "        response = requests.get(DATA_URL, stream=True)\n",
    "        with open(LOCAL_FILENAME, \"wb\") as f:\n",
    "            for chunk in response.iter_content(chunk_size=8192):\n",
    "                f.write(chunk)\n",
    "        print(\"Download complete.\")\n",
    "    else:\n",
    "        print(\"File already downloaded.\")"
   ]
  },
  {
   "cell_type": "code",
   "execution_count": 4,
   "id": "8302d401-389c-44ed-a3d2-c852c2ca035a",
   "metadata": {
    "execution": {
     "iopub.execute_input": "2025-07-04T19:07:00.496490Z",
     "iopub.status.busy": "2025-07-04T19:07:00.495987Z",
     "iopub.status.idle": "2025-07-04T19:07:00.501114Z",
     "shell.execute_reply": "2025-07-04T19:07:00.500101Z",
     "shell.execute_reply.started": "2025-07-04T19:07:00.496461Z"
    }
   },
   "outputs": [],
   "source": [
    "# ---- Upload to S3 ----\n",
    "def upload_to_s3():\n",
    "    s3 = boto3.client(\"s3\")\n",
    "    print(f\"Uploading {LOCAL_FILENAME} to s3://{S3_BUCKET}/{S3_KEY}\")\n",
    "    s3.upload_file(LOCAL_FILENAME, S3_BUCKET, S3_KEY)\n",
    "    print(\"Upload complete.\")"
   ]
  },
  {
   "cell_type": "code",
   "execution_count": 6,
   "id": "1b488a75-3563-4844-9434-de68e527a1f0",
   "metadata": {
    "execution": {
     "iopub.execute_input": "2025-07-04T19:09:54.767646Z",
     "iopub.status.busy": "2025-07-04T19:09:54.767336Z",
     "iopub.status.idle": "2025-07-04T19:09:54.844344Z",
     "shell.execute_reply": "2025-07-04T19:09:54.843503Z",
     "shell.execute_reply.started": "2025-07-04T19:09:54.767607Z"
    }
   },
   "outputs": [
    {
     "name": "stdout",
     "output_type": "stream",
     "text": [
      "File already downloaded.\n",
      "Uploading kepler_data.zip to s3://exoplanet-detection-data/datasets/kepler_data.zip\n",
      "Upload complete.\n"
     ]
    }
   ],
   "source": [
    "if __name__ == \"__main__\":\n",
    "    download_data()\n",
    "    upload_to_s3()"
   ]
  },
  {
   "cell_type": "code",
   "execution_count": null,
   "id": "b31546ca-9e6f-44c7-8fec-6d3eff6b5e3e",
   "metadata": {},
   "outputs": [],
   "source": []
  }
 ],
 "metadata": {
  "kernelspec": {
   "display_name": "Python 3 (ipykernel)",
   "language": "python",
   "name": "python3"
  },
  "language_info": {
   "codemirror_mode": {
    "name": "ipython",
    "version": 3
   },
   "file_extension": ".py",
   "mimetype": "text/x-python",
   "name": "python",
   "nbconvert_exporter": "python",
   "pygments_lexer": "ipython3",
   "version": "3.12.9"
  }
 },
 "nbformat": 4,
 "nbformat_minor": 5
}
